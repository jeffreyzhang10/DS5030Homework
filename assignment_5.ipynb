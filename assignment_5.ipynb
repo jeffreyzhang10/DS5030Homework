{
 "cells": [
  {
   "cell_type": "markdown",
   "id": "dd21efe9",
   "metadata": {},
   "source": [
    "# Assignment 5\n",
    "### Do all four questions."
   ]
  },
  {
   "cell_type": "markdown",
   "id": "1ee9b4e8",
   "metadata": {},
   "source": [
    "**1.** Let's review some basic matrix multiplication. When you have an $M \\times N$ matrix $A$ with $M$ rows and $N$ columns, \n",
    "$$\n",
    "A= \\left[ \\begin{array}{cccc} a_{11} & a_{12} & ... & a_{1N} \\\\\n",
    "a_{21} & a_{22} & ... & a_{2N} \\\\\n",
    "\\vdots & \\vdots & ... & \\vdots \\\\\n",
    "a_{M1} & a_{M2} & ... & a_{MN} \n",
    "\\end{array} \\right],\n",
    "$$\n",
    "and you right-multiply it by a vector\n",
    "$$\n",
    "x = \\left[ \\begin{array}{c} x_1 \\\\ x_2 \\\\ \\vdots \\\\ x_N \n",
    "\\end{array} \\right],\n",
    "$$\n",
    "you get\n",
    "$$\n",
    "Ax = \\left[ \\begin{array}{c} \\sum_{i=1}^N a_{1i} x_i \\\\ \\sum_{i=1}^N a_{2i} x_i \\\\ \\vdots \\\\ \\sum_{i=1}^N a_{Mi} x_i \n",
    "\\end{array} \\right].\n",
    "$$\n",
    "This is just \"matrix row times column vector\" element-by-element, stacking the results into a new vector.\n",
    "\n",
    "For this to make sense, $N$ must be the same for the matrix and the vector, but $M$ can be different from $N$. \n",
    "\n",
    "Let's play with some NumPy to see this. First we'll define a matrix $A$:"
   ]
  },
  {
   "cell_type": "code",
   "execution_count": 345,
   "id": "33df3579",
   "metadata": {},
   "outputs": [
    {
     "data": {
      "text/plain": [
       "array([[1, 2, 3],\n",
       "       [4, 5, 6],\n",
       "       [7, 8, 9]])"
      ]
     },
     "execution_count": 345,
     "metadata": {},
     "output_type": "execute_result"
    }
   ],
   "source": [
    "import numpy as np\n",
    "import pandas as pd\n",
    "\n",
    "A = np.array([ [1,2,3],\n",
    "              [4,5,6],\n",
    "              [7,8,9]])\n",
    "A"
   ]
  },
  {
   "cell_type": "markdown",
   "id": "94b1b3ac",
   "metadata": {},
   "source": [
    "a. Multiply $A$ times each of the following vectors using the @ operator. Explain which part of the $A$ matrix gets selected and explain why, using the definition of matrix multiplication. "
   ]
  },
  {
   "cell_type": "code",
   "execution_count": 346,
   "id": "5b6148d2",
   "metadata": {},
   "outputs": [
    {
     "name": "stdout",
     "output_type": "stream",
     "text": [
      "[1 4 7]\n",
      "[2 5 8]\n",
      "[3 6 9]\n"
     ]
    }
   ],
   "source": [
    "e_1 = np.array([1,0,0])\n",
    "e_2 = np.array([0,1,0])\n",
    "e_3 = np.array([0,0,1])\n",
    "\n",
    "print(A @ e_1)\n",
    "print(A @ e_2)\n",
    "print(A @ e_3)"
   ]
  },
  {
   "cell_type": "markdown",
   "id": "a041f306",
   "metadata": {},
   "source": [
    "Multiplying A by each of the following vectors returns the corresponding column of the matrix A as a row. This happens because the rules of matrix multiplication state that the elements of the row result in the dot product of the column of A with the row of the vector. Since there is only a 1 with 2 other zeroes, the result if the column of A based on the positioning of the non-zero element. "
   ]
  },
  {
   "cell_type": "markdown",
   "id": "72a4704e",
   "metadata": {},
   "source": [
    "b. Now multiply $A$ times $u = (1,1,1)$. Explain the logic of the result with the definition of matrix multiplication."
   ]
  },
  {
   "cell_type": "code",
   "execution_count": 347,
   "id": "5bf73f9b",
   "metadata": {},
   "outputs": [],
   "source": [
    "u = np.ones(3)"
   ]
  },
  {
   "cell_type": "code",
   "execution_count": 348,
   "id": "d58680bf",
   "metadata": {},
   "outputs": [
    {
     "name": "stdout",
     "output_type": "stream",
     "text": [
      "[ 6. 15. 24.]\n"
     ]
    }
   ],
   "source": [
    "# print(u)\n",
    "print (A @ u)"
   ]
  },
  {
   "cell_type": "markdown",
   "id": "59e664f1",
   "metadata": {},
   "source": [
    "Instead of zeroes this time, each element of the row in the resulting matrix comes from the dot product of each row with each element of u, in this case all 1's. As a result, the answer we get ends up being the sum of each row of A as we take the solution from part A, and essentially sum up the columns of the 3 print statements from part A as the elements of the row in u. "
   ]
  },
  {
   "cell_type": "markdown",
   "id": "dde75eab",
   "metadata": {},
   "source": [
    "c. Whenever a matrix has 1's on the diagonal and zeros everywhere else, we call it an **identity matrix**. What happens when you multiple $A$ times $x$ below? What happens when you multiple an identity matrix times any vector? Explain your result with the definition of matrix multiplication."
   ]
  },
  {
   "cell_type": "code",
   "execution_count": 349,
   "id": "b0d349c4",
   "metadata": {},
   "outputs": [],
   "source": [
    "A = np.array([ [1,0,0],\n",
    "              [0,1,0],\n",
    "              [0,0,1]])\n",
    "x = np.array([-2,4,11])\n"
   ]
  },
  {
   "cell_type": "code",
   "execution_count": 350,
   "id": "033ba25d",
   "metadata": {},
   "outputs": [
    {
     "name": "stdout",
     "output_type": "stream",
     "text": [
      "[-2  4 11]\n"
     ]
    }
   ],
   "source": [
    "print (A @ x)"
   ]
  },
  {
   "cell_type": "markdown",
   "id": "2e64c111",
   "metadata": {},
   "source": [
    "Like in the name, the identity matrix A, multiplied by any other vector or matrix will literally give you the \"identity\" or same vector that you multiplied it by. Each element in x is matched by a singular corresponding 1 in the A matrix, that when multiplied, results in the original vector. This means that any vector multiplied by the identity matrix will result in the same vector."
   ]
  },
  {
   "cell_type": "markdown",
   "id": "57141925",
   "metadata": {},
   "source": [
    "d. What if every row and column sum to 1, but the 1's are no longer on the diagonal? Multiple $A$ times $X$ below and explain the result. Create another matrix whose rows and columns sum to 1, but is not an identity matrix, and show how it permutes the values of $x$. "
   ]
  },
  {
   "cell_type": "code",
   "execution_count": 351,
   "id": "83a9ed11",
   "metadata": {},
   "outputs": [],
   "source": [
    "A = np.array([ [0,0,1],\n",
    "              [1,0,0],\n",
    "              [0,1,0]])\n",
    "x = np.array([-2,4,11])\n"
   ]
  },
  {
   "cell_type": "code",
   "execution_count": 352,
   "id": "7902ec45",
   "metadata": {},
   "outputs": [
    {
     "name": "stdout",
     "output_type": "stream",
     "text": [
      "[11 -2  4]\n"
     ]
    }
   ],
   "source": [
    "print(A @ x)"
   ]
  },
  {
   "cell_type": "markdown",
   "id": "2db0fb4a",
   "metadata": {},
   "source": [
    "The result of a matrix where the columns and rows add up to 1 but not the diagnal returns the same results as the identity matrix, where all elements of the matrix are the same as from the input, but simply in a rearranged form. The result of the output depends on the position of the 1 in the A matrix, which will determine when its corresponding element from x will be printed out in order. "
   ]
  },
  {
   "cell_type": "code",
   "execution_count": 353,
   "id": "36deac40",
   "metadata": {},
   "outputs": [
    {
     "name": "stdout",
     "output_type": "stream",
     "text": [
      "[ 4 -2 11]\n"
     ]
    }
   ],
   "source": [
    "A = np.array([ [0,1,0],\n",
    "              [1,0,0],\n",
    "              [0,0,1]])\n",
    "x = np.array([-2,4,11])\n",
    "\n",
    "print (A @ x)"
   ]
  },
  {
   "cell_type": "markdown",
   "id": "a96d1163",
   "metadata": {},
   "source": [
    "Similarly here, shifting around the values of 1 in matrix A reveals how the positioning of the A by swapping columns 2 and 3 result in a new permutation of the matrix where 4 and 11, the corresponding elements of X are now switched. "
   ]
  },
  {
   "cell_type": "markdown",
   "id": "611c26c3",
   "metadata": {},
   "source": [
    "e. The next matrix $A$ could be a Markov transition matrix: Its columns sum to 1, and each entry $a_{ij}$ can be interpreted as the proportion of observations who moved from state $j$ to state $i$. Multiply $A$ by each of the vectors $e_1$, $e_2$, and $e_3$, and explain your results."
   ]
  },
  {
   "cell_type": "code",
   "execution_count": 354,
   "id": "aff4fb97",
   "metadata": {},
   "outputs": [
    {
     "name": "stdout",
     "output_type": "stream",
     "text": [
      "[[0.50052958 0.24049286 0.18358131]\n",
      " [0.02574731 0.39251588 0.37907577]\n",
      " [0.47372311 0.36699127 0.43734292]]\n"
     ]
    }
   ],
   "source": [
    "rng = np.random.default_rng(100)\n",
    "A = rng.random((3,3)) # Generate a random 3X3 matrix\n",
    "sums = np.sum(A,axis=0) # Column sums\n",
    "A = A/sums # Normalize the columns so they sum to 1\n",
    "print(A)"
   ]
  },
  {
   "cell_type": "code",
   "execution_count": 355,
   "id": "fbd0a182",
   "metadata": {},
   "outputs": [
    {
     "name": "stdout",
     "output_type": "stream",
     "text": [
      "[0.50052958 0.02574731 0.47372311]\n",
      "[0.24049286 0.39251588 0.36699127]\n",
      "[0.18358131 0.37907577 0.43734292]\n"
     ]
    }
   ],
   "source": [
    "print (A @ e_1)\n",
    "print (A @ e_2)\n",
    "print (A @ e_3)"
   ]
  },
  {
   "cell_type": "markdown",
   "id": "d9e66bd0",
   "metadata": {},
   "source": [
    "The result of the matrix A multiplied by the vectors e_1, e_2, and e_3 shows the probability of each state, specifically from left to right in each column state 1, 2 and 3. Given each step in the state, moving across each element of the row in the matrix gives you a probaility from one state to the next. "
   ]
  },
  {
   "cell_type": "markdown",
   "id": "0647bfa7",
   "metadata": {},
   "source": [
    "f. For each of the vectors $e_1, e_2, e_3$, multiple $A$ times that vector 5 times. What answer do you get for each starting vector? Describe the behavior you observe."
   ]
  },
  {
   "cell_type": "code",
   "execution_count": 356,
   "id": "ddfebfaf",
   "metadata": {},
   "outputs": [
    {
     "name": "stdout",
     "output_type": "stream",
     "text": [
      "[0.29266551 0.27862515 0.42870935]\n"
     ]
    }
   ],
   "source": [
    "x = e_1.copy()\n",
    "for i in range(5): \n",
    "    x = A @ x\n",
    "\n",
    "print(x)"
   ]
  },
  {
   "cell_type": "code",
   "execution_count": 357,
   "id": "2c2eefbd",
   "metadata": {},
   "outputs": [
    {
     "name": "stdout",
     "output_type": "stream",
     "text": [
      "[0.29197422 0.27979983 0.42822595]\n"
     ]
    }
   ],
   "source": [
    "x = e_2.copy()\n",
    "for i in range(5): \n",
    "    x = A @ x\n",
    "\n",
    "print(x)"
   ]
  },
  {
   "cell_type": "code",
   "execution_count": 358,
   "id": "684c068f",
   "metadata": {},
   "outputs": [
    {
     "name": "stdout",
     "output_type": "stream",
     "text": [
      "[0.29171646 0.2802254  0.42805814]\n"
     ]
    }
   ],
   "source": [
    "x = e_3.copy()\n",
    "for i in range(5): \n",
    "    x = A @ x\n",
    "\n",
    "print(x)"
   ]
  },
  {
   "cell_type": "markdown",
   "id": "741450f8",
   "metadata": {},
   "source": [
    "After several iterations of multiplication, you will see the vectors start to converge to a singular value, representing the problability of the Markov chain and distribution regardless of the starting state. "
   ]
  },
  {
   "cell_type": "markdown",
   "id": "fa2c9a93",
   "metadata": {},
   "source": [
    "*2.* Let's consider a simple Markov transition matrix over two states:\n",
    "$$\n",
    "T = \\left[ \\begin{array}{cc} p_{1\\leftarrow 1} &  p_{1\\leftarrow 2} \\\\\n",
    "p_{2 \\leftarrow 1} & p_{2 \\leftarrow 2} \\end{array}\\right] \n",
    "$$\n",
    "The arrows help visualize the transition a bit: This is the same index notation as usual, $p_{ij}$, but writing it $p_{i \\leftarrow j}$ emphasizes that it's the proportion of times that state $j$ transitions to state $i$. Below, $T$ is given by\n",
    "$$\n",
    "T = \\left[ \\begin{array}{cc} .25 & .5 \\\\\n",
    ".75 & .5 \\end{array}\\right].\n",
    "$$\n",
    "\n",
    "- Start in state 1, at the initial condition $[1,0]$. Multiply that vector by $T$. Write out the result in terms of the formula and compute the result in a code chunk below. What is this object you're looking at, in terms of proportions and transitions?\n",
    "- Multiple by $T$ again. What do you get? This isn't a column of $T$. Explain in words what it is. (Hint: A forecast of what in what period?)\n",
    "- Keep multiplying the current vector of outcomes by $T$. When does it start to settle down without changing further?\n",
    "- Do the above analysis again, starting from the initial condition $[0,1]$. Do you get a different result?\n",
    "- The take-away is that, in the long run, these chains settle down into the long-run proportions, and the sensitivity on initial conditions vanishes. \n"
   ]
  },
  {
   "cell_type": "code",
   "execution_count": 359,
   "id": "4b6a775f",
   "metadata": {},
   "outputs": [],
   "source": [
    "T = np.array([[ 1/4, 1/2],\n",
    "                 [ 3/4, 1/2 ]])"
   ]
  },
  {
   "cell_type": "code",
   "execution_count": 360,
   "id": "cd7820fb",
   "metadata": {},
   "outputs": [
    {
     "name": "stdout",
     "output_type": "stream",
     "text": [
      "[0.25 0.75]\n"
     ]
    }
   ],
   "source": [
    "state1 = np.array([1.0, 0.0]) \n",
    "\n",
    "result = T @ state1\n",
    "print(result)"
   ]
  },
  {
   "cell_type": "markdown",
   "id": "04105487",
   "metadata": {},
   "source": [
    "The above result represents the new probability of the distribution after one iteration to the state. Starting from State 1, the probability of state 1 is 0.25 and the probability of state 2 is 0.75."
   ]
  },
  {
   "cell_type": "code",
   "execution_count": 361,
   "id": "f7c8c65b",
   "metadata": {},
   "outputs": [
    {
     "name": "stdout",
     "output_type": "stream",
     "text": [
      "[0.4375 0.5625]\n"
     ]
    }
   ],
   "source": [
    "result = T @ result\n",
    "print(result)"
   ]
  },
  {
   "cell_type": "markdown",
   "id": "9dacad90",
   "metadata": {},
   "source": [
    "The next result above is not a column of T beacuse it represents the second iteration from the start, and the resulting probability distribution after two cycles essentially. "
   ]
  },
  {
   "cell_type": "code",
   "execution_count": null,
   "id": "b123b944",
   "metadata": {},
   "outputs": [
    {
     "name": "stdout",
     "output_type": "stream",
     "text": [
      "0 [1. 0.]\n",
      "1 [0.25 0.75]\n",
      "2 [0.4375 0.5625]\n",
      "3 [0.390625 0.609375]\n",
      "4 [0.40234375 0.59765625]\n",
      "5 [0.39941406 0.60058594]\n",
      "6 [0.40014648 0.59985352]\n",
      "7 [0.39996338 0.60003662]\n",
      "8 [0.40000916 0.59999084]\n",
      "9 [0.39999771 0.60000229]\n"
     ]
    }
   ],
   "source": [
    "t = np.array([1.0,0.0])\n",
    "\n",
    "for i in range(10):\n",
    "    print(i, t)\n",
    "    t = T @ t\n"
   ]
  },
  {
   "cell_type": "markdown",
   "id": "ce2e4e22",
   "metadata": {},
   "source": [
    "The chain starts to stabilize around 5-6 iterations. "
   ]
  },
  {
   "cell_type": "code",
   "execution_count": null,
   "id": "661aa846",
   "metadata": {},
   "outputs": [
    {
     "name": "stdout",
     "output_type": "stream",
     "text": [
      "0 [0 1]\n",
      "1 [0.5 0.5]\n",
      "2 [0.375 0.625]\n",
      "3 [0.40625 0.59375]\n",
      "4 [0.3984375 0.6015625]\n",
      "5 [0.40039062 0.59960938]\n",
      "6 [0.39990234 0.60009766]\n",
      "7 [0.40002441 0.59997559]\n",
      "8 [0.3999939 0.6000061]\n",
      "9 [0.40000153 0.59999847]\n"
     ]
    }
   ],
   "source": [
    "t = np.array([0, 1])\n",
    "\n",
    "for i in range(10):\n",
    "    print(i, t)\n",
    "    t = T @ t\n"
   ]
  },
  {
   "cell_type": "markdown",
   "id": "c9ea2297",
   "metadata": {},
   "source": [
    "Similarly, the chain starts to stabilize around 5-6 iterations agian. As a result, the initial condition did not have any effect. "
   ]
  },
  {
   "cell_type": "markdown",
   "id": "921592e9",
   "metadata": {},
   "source": [
    "3. Weather data\n",
    "\n",
    "- Load the `cville_weather.csv` data. This includes data from Jan 4, 2024 to Feb 2, 2025. Are there any missing data issues?\n",
    "- Based on the precipitation variable, `PRCP`, make a new variable called `rain` that takes the value 1 if `PRCP`>0 and 0 otherwise.\n",
    "- Build a two-state Markov chain over the states 0 and 1 for the `rain` variable. \n",
    "- For your chain from c, how likely is it to rain if it was rainy yesterday? How likely is it to rain if it was clear yesterday?\n",
    "- Starting from a clear day, forecast the distribution. How quickly does it converge to a fixed result? What if you start from a rainy day?\n",
    "- Conditional on being rainy, plot a KDE of the `PRCP` variable.\n",
    "- Describe one way of making your model better for forecasting and simulation the weather.\n",
    "\n",
    "Congratulations, you now are a non-parametric meteorologist!"
   ]
  },
  {
   "cell_type": "code",
   "execution_count": 364,
   "id": "8ba32cf8",
   "metadata": {},
   "outputs": [
    {
     "name": "stdout",
     "output_type": "stream",
     "text": [
      "<class 'pandas.core.frame.DataFrame'>\n",
      "RangeIndex: 411 entries, 0 to 410\n",
      "Data columns (total 13 columns):\n",
      " #   Column           Non-Null Count  Dtype  \n",
      "---  ------           --------------  -----  \n",
      " 0   STATION          411 non-null    object \n",
      " 1   NAME             411 non-null    object \n",
      " 2   DATE             411 non-null    object \n",
      " 3   DAPR             12 non-null     float64\n",
      " 4   DAPR_ATTRIBUTES  12 non-null     object \n",
      " 5   MDPR             12 non-null     float64\n",
      " 6   MDPR_ATTRIBUTES  12 non-null     object \n",
      " 7   PRCP             399 non-null    float64\n",
      " 8   PRCP_ATTRIBUTES  399 non-null    object \n",
      " 9   SNOW             223 non-null    float64\n",
      " 10  SNOW_ATTRIBUTES  223 non-null    object \n",
      " 11  SNWD             1 non-null      float64\n",
      " 12  SNWD_ATTRIBUTES  1 non-null      object \n",
      "dtypes: float64(5), object(8)\n",
      "memory usage: 41.9+ KB\n"
     ]
    },
    {
     "data": {
      "text/html": [
       "<div>\n",
       "<style scoped>\n",
       "    .dataframe tbody tr th:only-of-type {\n",
       "        vertical-align: middle;\n",
       "    }\n",
       "\n",
       "    .dataframe tbody tr th {\n",
       "        vertical-align: top;\n",
       "    }\n",
       "\n",
       "    .dataframe thead th {\n",
       "        text-align: right;\n",
       "    }\n",
       "</style>\n",
       "<table border=\"1\" class=\"dataframe\">\n",
       "  <thead>\n",
       "    <tr style=\"text-align: right;\">\n",
       "      <th></th>\n",
       "      <th>STATION</th>\n",
       "      <th>NAME</th>\n",
       "      <th>DATE</th>\n",
       "      <th>DAPR</th>\n",
       "      <th>DAPR_ATTRIBUTES</th>\n",
       "      <th>MDPR</th>\n",
       "      <th>MDPR_ATTRIBUTES</th>\n",
       "      <th>PRCP</th>\n",
       "      <th>PRCP_ATTRIBUTES</th>\n",
       "      <th>SNOW</th>\n",
       "      <th>SNOW_ATTRIBUTES</th>\n",
       "      <th>SNWD</th>\n",
       "      <th>SNWD_ATTRIBUTES</th>\n",
       "    </tr>\n",
       "  </thead>\n",
       "  <tbody>\n",
       "    <tr>\n",
       "      <th>0</th>\n",
       "      <td>US1VACRC002</td>\n",
       "      <td>CHARLOTTESVILLE 0.5 NNE, VA US</td>\n",
       "      <td>2024-01-04</td>\n",
       "      <td>NaN</td>\n",
       "      <td>NaN</td>\n",
       "      <td>NaN</td>\n",
       "      <td>NaN</td>\n",
       "      <td>0.03</td>\n",
       "      <td>,,N</td>\n",
       "      <td>NaN</td>\n",
       "      <td>NaN</td>\n",
       "      <td>NaN</td>\n",
       "      <td>NaN</td>\n",
       "    </tr>\n",
       "    <tr>\n",
       "      <th>1</th>\n",
       "      <td>US1VACRC002</td>\n",
       "      <td>CHARLOTTESVILLE 0.5 NNE, VA US</td>\n",
       "      <td>2024-01-07</td>\n",
       "      <td>NaN</td>\n",
       "      <td>NaN</td>\n",
       "      <td>NaN</td>\n",
       "      <td>NaN</td>\n",
       "      <td>1.08</td>\n",
       "      <td>,,N</td>\n",
       "      <td>NaN</td>\n",
       "      <td>NaN</td>\n",
       "      <td>NaN</td>\n",
       "      <td>NaN</td>\n",
       "    </tr>\n",
       "    <tr>\n",
       "      <th>2</th>\n",
       "      <td>US1VACRC002</td>\n",
       "      <td>CHARLOTTESVILLE 0.5 NNE, VA US</td>\n",
       "      <td>2024-01-09</td>\n",
       "      <td>NaN</td>\n",
       "      <td>NaN</td>\n",
       "      <td>NaN</td>\n",
       "      <td>NaN</td>\n",
       "      <td>0.24</td>\n",
       "      <td>,,N</td>\n",
       "      <td>NaN</td>\n",
       "      <td>NaN</td>\n",
       "      <td>NaN</td>\n",
       "      <td>NaN</td>\n",
       "    </tr>\n",
       "    <tr>\n",
       "      <th>3</th>\n",
       "      <td>US1VACRC002</td>\n",
       "      <td>CHARLOTTESVILLE 0.5 NNE, VA US</td>\n",
       "      <td>2024-01-10</td>\n",
       "      <td>NaN</td>\n",
       "      <td>NaN</td>\n",
       "      <td>NaN</td>\n",
       "      <td>NaN</td>\n",
       "      <td>3.00</td>\n",
       "      <td>,,N</td>\n",
       "      <td>NaN</td>\n",
       "      <td>NaN</td>\n",
       "      <td>NaN</td>\n",
       "      <td>NaN</td>\n",
       "    </tr>\n",
       "    <tr>\n",
       "      <th>4</th>\n",
       "      <td>US1VACRC002</td>\n",
       "      <td>CHARLOTTESVILLE 0.5 NNE, VA US</td>\n",
       "      <td>2024-01-24</td>\n",
       "      <td>NaN</td>\n",
       "      <td>NaN</td>\n",
       "      <td>NaN</td>\n",
       "      <td>NaN</td>\n",
       "      <td>0.00</td>\n",
       "      <td>,,N</td>\n",
       "      <td>0.0</td>\n",
       "      <td>,,N</td>\n",
       "      <td>NaN</td>\n",
       "      <td>NaN</td>\n",
       "    </tr>\n",
       "  </tbody>\n",
       "</table>\n",
       "</div>"
      ],
      "text/plain": [
       "       STATION                            NAME        DATE  DAPR  \\\n",
       "0  US1VACRC002  CHARLOTTESVILLE 0.5 NNE, VA US  2024-01-04   NaN   \n",
       "1  US1VACRC002  CHARLOTTESVILLE 0.5 NNE, VA US  2024-01-07   NaN   \n",
       "2  US1VACRC002  CHARLOTTESVILLE 0.5 NNE, VA US  2024-01-09   NaN   \n",
       "3  US1VACRC002  CHARLOTTESVILLE 0.5 NNE, VA US  2024-01-10   NaN   \n",
       "4  US1VACRC002  CHARLOTTESVILLE 0.5 NNE, VA US  2024-01-24   NaN   \n",
       "\n",
       "  DAPR_ATTRIBUTES  MDPR MDPR_ATTRIBUTES  PRCP PRCP_ATTRIBUTES  SNOW  \\\n",
       "0             NaN   NaN             NaN  0.03             ,,N   NaN   \n",
       "1             NaN   NaN             NaN  1.08             ,,N   NaN   \n",
       "2             NaN   NaN             NaN  0.24             ,,N   NaN   \n",
       "3             NaN   NaN             NaN  3.00             ,,N   NaN   \n",
       "4             NaN   NaN             NaN  0.00             ,,N   0.0   \n",
       "\n",
       "  SNOW_ATTRIBUTES  SNWD SNWD_ATTRIBUTES  \n",
       "0             NaN   NaN             NaN  \n",
       "1             NaN   NaN             NaN  \n",
       "2             NaN   NaN             NaN  \n",
       "3             NaN   NaN             NaN  \n",
       "4             ,,N   NaN             NaN  "
      ]
     },
     "execution_count": 364,
     "metadata": {},
     "output_type": "execute_result"
    }
   ],
   "source": [
    "weather = pd.read_csv(\"cville_weather.csv\")\n",
    "weather.info()\n",
    "weather.head()"
   ]
  },
  {
   "cell_type": "code",
   "execution_count": 365,
   "id": "a931cece",
   "metadata": {},
   "outputs": [
    {
     "data": {
      "text/plain": [
       "STATION              0\n",
       "NAME                 0\n",
       "DATE                 0\n",
       "DAPR               399\n",
       "DAPR_ATTRIBUTES    399\n",
       "MDPR               399\n",
       "MDPR_ATTRIBUTES    399\n",
       "PRCP                12\n",
       "PRCP_ATTRIBUTES     12\n",
       "SNOW               188\n",
       "SNOW_ATTRIBUTES    188\n",
       "SNWD               410\n",
       "SNWD_ATTRIBUTES    410\n",
       "dtype: int64"
      ]
     },
     "execution_count": 365,
     "metadata": {},
     "output_type": "execute_result"
    }
   ],
   "source": [
    "weather.isna().sum()"
   ]
  },
  {
   "cell_type": "markdown",
   "id": "0ffed003",
   "metadata": {},
   "source": [
    "There seem to be some missing values, with only a few for values like PRCP. "
   ]
  },
  {
   "cell_type": "code",
   "execution_count": null,
   "id": "24199c10",
   "metadata": {},
   "outputs": [
    {
     "name": "stdout",
     "output_type": "stream",
     "text": [
      "\n",
      "State Counts: \n",
      " [[231. 179.]]\n",
      "\n",
      "State proportions: \n",
      " [[0.56341463 0.43658537]]\n"
     ]
    }
   ],
   "source": [
    "weather['rain'] = np.where(weather[\"PRCP\"] > 0, 1, 0)\n",
    "weather[['PRCP', 'rain']].head()\n",
    "\n",
    "transition = np.zeros((2, 2))  # rows = next state, cols = current state\n",
    "rain = weather[\"rain\"].values\n",
    "\n",
    "states = [0, 1]  # 0 = clear 1 = rain\n",
    "S = len(states)\n",
    "T = len(rain)\n",
    "\n",
    "tr_counts = np.zeros( (S, S) )\n",
    "\n",
    "for t in range(1,T): # For each transition\n",
    "    # Current and next tokens:\n",
    "    x_tm1 = rain[t-1] # previous state\n",
    "    x_t = rain[t] # current state\n",
    "\n",
    "    # Update transition counts:\n",
    "    tr_counts[x_t, x_tm1] += 1\n",
    "\n",
    "# Sum the transition counts by row:\n",
    "sums = tr_counts.sum(axis = 0, keepdims=True)\n",
    "print(f'\\nState Counts: \\n {sums}')\n",
    "\n",
    "# Sum the transition counts by row:\n",
    "print(f'\\nState proportions: \\n {sums/np.sum(sums)}')\n",
    "\n",
    "# Normalize the transition count matrix to get proportions:\n",
    "tr_pr = np.divide(tr_counts, sums, \n",
    "                            out=np.zeros_like(tr_counts), \n",
    "                            where=sums!=0)"
   ]
  },
  {
   "cell_type": "code",
   "execution_count": 367,
   "id": "f9a9cdae",
   "metadata": {},
   "outputs": [
    {
     "name": "stdout",
     "output_type": "stream",
     "text": [
      "P(rain | rain yesterday): 0.648\n",
      "P(rain | clear yesterday): 0.268\n"
     ]
    }
   ],
   "source": [
    "p_rain_given_rainy = tr_pr[1,1]\n",
    "p_rain_given_clear = tr_pr[1,0]\n",
    "\n",
    "print(f\"P(rain | rain yesterday): {p_rain_given_rainy:.3f}\")\n",
    "print(f\"P(rain | clear yesterday): {p_rain_given_clear:.3f}\")"
   ]
  },
  {
   "cell_type": "code",
   "execution_count": 368,
   "id": "beb3b832",
   "metadata": {},
   "outputs": [
    {
     "name": "stdout",
     "output_type": "stream",
     "text": [
      "Initial Density: [1. 0.]\n",
      "\n",
      "[0.73160173 0.26839827]\n",
      "[0.62970529 0.37029471]\n",
      "[0.59102067 0.40897933]\n",
      "[0.57633419 0.42366581]\n",
      "[0.57075852 0.42924148]\n",
      "[0.56864174 0.43135826]\n",
      "[0.56783811 0.43216189]\n",
      "[0.56753302 0.43246698]\n",
      "[0.56741719 0.43258281]\n",
      "[0.56737321 0.43262679]\n"
     ]
    }
   ],
   "source": [
    "# Clear\n",
    "state = 0 \n",
    "density = np.zeros(len(states))\n",
    "density[state] = 1\n",
    "\n",
    "print(f'Initial Density: {density}\\n')\n",
    "\n",
    "for k in range(10):\n",
    "    density = tr_pr @ density\n",
    "    print(density)\n"
   ]
  },
  {
   "cell_type": "code",
   "execution_count": 369,
   "id": "4c60cb30",
   "metadata": {},
   "outputs": [
    {
     "name": "stdout",
     "output_type": "stream",
     "text": [
      "Initial Density: [0. 1.]\n",
      "\n",
      "[0.35195531 0.64804469]\n",
      "[0.48557388 0.51442612]\n",
      "[0.5363017 0.4636983]\n",
      "[0.55556033 0.44443967]\n",
      "[0.5628718 0.4371282]\n",
      "[0.56564757 0.43435243]\n",
      "[0.56670139 0.43329861]\n",
      "[0.56710146 0.43289854]\n",
      "[0.56725335 0.43274665]\n",
      "[0.56731101 0.43268899]\n"
     ]
    }
   ],
   "source": [
    "# Rainy \n",
    "\n",
    "state = 1\n",
    "density = np.zeros(len(states))\n",
    "density[state] = 1\n",
    "\n",
    "print(f'Initial Density: {density}\\n')\n",
    "\n",
    "for k in range(10):\n",
    "    density = tr_pr @ density\n",
    "    print(density)\n"
   ]
  },
  {
   "cell_type": "markdown",
   "id": "d9fe497d",
   "metadata": {},
   "source": [
    "For both cases, the forecasts converge to around 6-7 days. "
   ]
  },
  {
   "cell_type": "code",
   "execution_count": 370,
   "id": "bce55e18",
   "metadata": {},
   "outputs": [],
   "source": [
    "import matplotlib.pyplot as plt\n",
    "import seaborn as sns"
   ]
  },
  {
   "cell_type": "code",
   "execution_count": 371,
   "id": "aa6bf8b8",
   "metadata": {},
   "outputs": [
    {
     "data": {
      "image/png": "[encoded data removed]",
      "text/plain": [
       "<Figure size 640x480 with 1 Axes>"
      ]
     },
     "metadata": {},
     "output_type": "display_data"
    }
   ],
   "source": [
    "sns.kdeplot(weather.loc[weather['rain'] == 1, 'PRCP'])\n",
    "plt.title(\"KDE Precipitation for Rainy Days\")\n",
    "plt.xlabel(\"PRCP (in)\")\n",
    "plt.show()"
   ]
  },
  {
   "cell_type": "markdown",
   "id": "bddd5d8e",
   "metadata": {},
   "source": [
    "One method to improve the model is to introduce more information about the days itself, considering factors such as temperature, time of year, or humidity, to add some complexity in an attempt to capture more information about the variance of weather. "
   ]
  },
  {
   "cell_type": "markdown",
   "id": "b953c2c4",
   "metadata": {},
   "source": [
    "4. Taxicab trajectories: Using the pickled taxicab data, we want to complete the exercise from class.\n",
    "\n",
    "- For the taxicab trajectory data, determine your state space and clean your sequences of cab rides.\n",
    "- Compute the transition matrix for the taxicab data between neighborhoods in Manhattan. Plot it in a heat map. What are the most common routes?\n",
    "- Explain why taxicabs are most likely order 1, and not 2 or more.\n",
    "- Starting at Hell's Kitchen, create a sequence of forecasts of where the cab is likely to be in 2, 3, 5, and 10 trips\n",
    "- Starting at any neighborhood, iterate your forecast until it is no longer changing very much. Where do cabs spend most of their time working in Manhattan?"
   ]
  },
  {
   "cell_type": "code",
   "execution_count": 372,
   "id": "c32b8796",
   "metadata": {},
   "outputs": [],
   "source": [
    "import numpy as np\n",
    "import pandas as pd\n",
    "import seaborn as sns\n",
    "import matplotlib.pyplot as plt\n",
    "import pickle "
   ]
  },
  {
   "cell_type": "code",
   "execution_count": 373,
   "id": "89d1898a",
   "metadata": {},
   "outputs": [
    {
     "name": "stdout",
     "output_type": "stream",
     "text": [
      "1000\n"
     ]
    },
    {
     "data": {
      "text/plain": [
       "0     Outside Manhattan\n",
       "0     Outside Manhattan\n",
       "0     Outside Manhattan\n",
       "0     Outside Manhattan\n",
       "0     Outside Manhattan\n",
       "            ...        \n",
       "29                 SoHo\n",
       "29                 SoHo\n",
       "13    Greenwich Village\n",
       "3               Chelsea\n",
       "3               Chelsea\n",
       "Name: nbhd, Length: 26026, dtype: object"
      ]
     },
     "execution_count": 373,
     "metadata": {},
     "output_type": "execute_result"
    }
   ],
   "source": [
    "with open('taxicab.pkl', 'rb') as f:\n",
    "    data = pickle.load(f)\n",
    "\n",
    "print(len(data))\n",
    "data[0]\n",
    "\n",
    "# set(data[0])"
   ]
  },
  {
   "cell_type": "code",
   "execution_count": 374,
   "id": "84292d31",
   "metadata": {},
   "outputs": [],
   "source": [
    "states = set(data[0])\n",
    "\n",
    "for i in range(1, len(data)):\n",
    "    trip_i = set(data[i])\n",
    "    states = states.union(trip_i)\n",
    "\n",
    "states = list(states)\n",
    "# states"
   ]
  },
  {
   "cell_type": "code",
   "execution_count": 375,
   "id": "83f195fa",
   "metadata": {},
   "outputs": [],
   "source": [
    "# Compute Transition Counts\n",
    "\n",
    "## Create a S X S transition matrix, and find the transition counts:\n",
    "\n",
    "S = len(states)\n",
    "# T = len(bach)\n",
    "tr_counts = np.zeros( (S, S) )\n",
    "\n",
    "## Compute transition counts:\n",
    "for trip in data:\n",
    "    seq = np.array(trip)\n",
    "    for t in range(1,len(seq)):\n",
    "        # Current and next tokens:\n",
    "        x_tm1 = seq[t-1] # previous state\n",
    "        x_t = seq[t] # current state\n",
    "        # Determine transition indices:\n",
    "        index_from = states.index(x_tm1)\n",
    "        index_to = states.index(x_t)\n",
    "        # Update transition counts:\n",
    "        tr_counts[index_to, index_from] += 1\n"
   ]
  },
  {
   "cell_type": "code",
   "execution_count": 376,
   "id": "ee5ffaeb",
   "metadata": {},
   "outputs": [
    {
     "data": {
      "text/plain": [
       "'Outside Manhattan'"
      ]
     },
     "execution_count": 376,
     "metadata": {},
     "output_type": "execute_result"
    }
   ],
   "source": [
    "t = 1\n",
    "x_tm1"
   ]
  },
  {
   "cell_type": "code",
   "execution_count": 377,
   "id": "028a6620",
   "metadata": {},
   "outputs": [
    {
     "data": {
      "text/plain": [
       "26"
      ]
     },
     "execution_count": 377,
     "metadata": {},
     "output_type": "execute_result"
    }
   ],
   "source": [
    "states.index('Harlem')"
   ]
  },
  {
   "cell_type": "code",
   "execution_count": 378,
   "id": "ef359169",
   "metadata": {},
   "outputs": [
    {
     "name": "stdout",
     "output_type": "stream",
     "text": [
      "Transiction Counts: \n",
      " [[8.480000e+02 0.000000e+00 1.354000e+03 ... 1.960000e+02 3.180000e+02\n",
      "  6.200000e+01]\n",
      " [0.000000e+00 2.000000e+00 2.000000e+00 ... 0.000000e+00 1.000000e+00\n",
      "  0.000000e+00]\n",
      " [9.000000e+02 4.000000e+00 1.203902e+06 ... 2.985900e+04 2.775200e+04\n",
      "  1.886200e+04]\n",
      " ...\n",
      " [1.520000e+02 0.000000e+00 2.267300e+04 ... 1.119300e+05 1.268800e+04\n",
      "  1.503000e+03]\n",
      " [4.710000e+02 0.000000e+00 3.910800e+04 ... 9.970000e+03 1.019760e+05\n",
      "  7.970000e+02]\n",
      " [5.300000e+01 0.000000e+00 2.594400e+04 ... 1.503000e+03 8.420000e+02\n",
      "  7.192200e+04]]\n"
     ]
    }
   ],
   "source": [
    "print('Transiction Counts: \\n', tr_counts)"
   ]
  },
  {
   "cell_type": "code",
   "execution_count": 379,
   "id": "edc94905",
   "metadata": {},
   "outputs": [
    {
     "name": "stdout",
     "output_type": "stream",
     "text": [
      "State proportions: \n",
      "\n",
      "[[1.038800e+04]\n",
      " [1.200000e+01]\n",
      " [2.363961e+06]\n",
      " [3.705660e+05]\n",
      " [8.393620e+05]\n",
      " [1.000000e+00]\n",
      " [1.058730e+05]\n",
      " [3.000000e+00]\n",
      " [8.010000e+03]\n",
      " [1.803491e+06]\n",
      " [5.505970e+05]\n",
      " [6.543970e+05]\n",
      " [3.603000e+03]\n",
      " [5.790800e+04]\n",
      " [1.431200e+04]\n",
      " [1.224325e+06]\n",
      " [3.851929e+06]\n",
      " [3.859100e+04]\n",
      " [2.292330e+05]\n",
      " [2.797713e+06]\n",
      " [8.886440e+05]\n",
      " [1.627050e+05]\n",
      " [1.978283e+06]\n",
      " [3.701250e+05]\n",
      " [5.077760e+05]\n",
      " [3.952740e+05]\n",
      " [2.171620e+05]\n",
      " [7.253000e+04]\n",
      " [5.017430e+05]\n",
      " [1.063770e+05]\n",
      " [1.112860e+05]\n",
      " [4.930000e+02]\n",
      " [8.740550e+05]\n",
      " [4.415950e+05]\n",
      " [1.743220e+05]\n",
      " [5.102620e+05]\n",
      " [4.086400e+05]\n",
      " [3.168490e+05]]\n"
     ]
    }
   ],
   "source": [
    "# Sum the transition counts by row:\n",
    "sums = tr_counts.sum(axis=1, keepdims=True)\n",
    "print('State proportions: \\n')\n",
    "\n",
    "print(sums)"
   ]
  },
  {
   "cell_type": "code",
   "execution_count": 380,
   "id": "635d8e9d",
   "metadata": {},
   "outputs": [
    {
     "name": "stdout",
     "output_type": "stream",
     "text": [
      "Transition Proportions:\n",
      "\n"
     ]
    },
    {
     "data": {
      "image/png": "[encoded data removed]",
      "text/plain": [
       "<Figure size 1200x1000 with 2 Axes>"
      ]
     },
     "metadata": {},
     "output_type": "display_data"
    }
   ],
   "source": [
    "# Normalize the transition count matrix to get proportions:\n",
    "tr_pr = np.divide(tr_counts, sums, \n",
    "                             out=np.zeros_like(tr_counts), \n",
    "                             where=sums!=0)\n",
    "\n",
    "print('Transition Proportions:\\n')\n",
    "\n",
    "tr_df = pd.DataFrame(np.round(tr_pr,2), index=states, columns=states)\n",
    "# print(tr_df)\n",
    "\n",
    "plt.figure(figsize=(12, 10))\n",
    "sns.heatmap(tr_pr, \n",
    "            cmap='Blues',    \n",
    "            square=True,          \n",
    "            xticklabels=states,\n",
    "            yticklabels=states,\n",
    "            cbar_kws={'label': 'Transition Probability'})\n",
    "\n",
    "plt.title('Transition Probabilities')\n",
    "plt.xlabel('...To State')\n",
    "plt.ylabel('From State...')\n",
    "plt.xticks(rotation=90)\n",
    "plt.yticks(rotation=0)\n",
    "plt.show()\n"
   ]
  },
  {
   "cell_type": "markdown",
   "id": "0ef3f0b9",
   "metadata": {},
   "source": [
    "The most common routes include trips that start and end in the same neighborhood, highlighted by the darker shades on the diagonals of the plot itself such as the Upper East Side to the Upper East Side. There are also a ton of routes that based on darker squares in the diagnola, such as for outside Manhattan and Midtown, that seem to be having a lot of trips that end up over there due to their proximity and overall relevance in Manhattan."
   ]
  },
  {
   "cell_type": "markdown",
   "id": "f84dba34",
   "metadata": {},
   "source": [
    "Taxi Cab Order\n",
    "\n",
    "Taxicabs are most likely to be order 1 because it solely depends where you are going. For example, the neighborhood where you are likely indicates what you are like doing, like theoretically could predict to where you will end up like home, or the store. All of this information, about where the rider wants to go is all in the present. In this case, we don't care about where you came from, the taxi cab only cares about the destination itself. Knowing the location of the taxi 1, 2, or even 3 rides ago does not impact where the current passenger wants to go.As a result, its a dependency on the passenger, not the cab. This would not be the case for something like Uber, where the driver gets to choose the ride. Thus, the lack of regard for prior information means that the order cannot be two or more. "
   ]
  },
  {
   "cell_type": "markdown",
   "id": "32c26e01",
   "metadata": {},
   "source": [
    "- Starting at Hell's Kitchen, create a sequence of forecasts of where the cab is likely to be in 2, 3, 5, and 10 trips\n",
    "- Starting at any neighborhood, iterate your forecast until it is no longer changing very much. Where do cabs spend most of their time working in Manhattan?"
   ]
  },
  {
   "cell_type": "code",
   "execution_count": 409,
   "id": "ddeb9edc",
   "metadata": {},
   "outputs": [
    {
     "name": "stdout",
     "output_type": "stream",
     "text": [
      "After 2 trips:\n",
      "Midtown: 0.1747\n",
      "Hell's Kitchen: 0.1192\n",
      "Chelsea: 0.1102\n",
      "Upper West Side: 0.1090\n",
      "Upper East Side: 0.0843\n",
      "\n",
      "After 3 trips:\n",
      "Midtown: 0.1741\n",
      "Upper East Side: 0.1077\n",
      "Chelsea: 0.0978\n",
      "Upper West Side: 0.0971\n",
      "Outside Manhattan: 0.0797\n",
      "\n",
      "After 5 trips:\n",
      "Midtown: 0.1697\n",
      "Upper East Side: 0.1212\n",
      "Outside Manhattan: 0.0957\n",
      "Chelsea: 0.0881\n",
      "Upper West Side: 0.0841\n",
      "\n",
      "After 10 trips:\n",
      "Midtown: 0.1678\n",
      "Upper East Side: 0.1221\n",
      "Outside Manhattan: 0.1026\n",
      "Chelsea: 0.0861\n",
      "Upper West Side: 0.0788\n",
      "\n"
     ]
    }
   ],
   "source": [
    "initial_state = \"Hell's Kitchen\"\n",
    "state_index = states.index(initial_state)\n",
    "\n",
    "density = np.zeros(len(states))\n",
    "density[state_index] = 1\n",
    "\n",
    "\n",
    "for steps in [2, 3, 5, 10]:\n",
    "    \n",
    "    forecast = density.copy()\n",
    "    \n",
    "    for k in range(steps):\n",
    "        forecast = forecast @ tr_pr\n",
    "\n",
    "    df = pd.DataFrame({'State': states, 'Probability': forecast})\n",
    "    df = df.sort_values('Probability', ascending=False)\n",
    "    \n",
    "    print(f'After {steps} trips:')\n",
    "    for i in range(5):\n",
    "        state = df.iloc[i]['State']\n",
    "        prob  = df.iloc[i]['Probability']\n",
    "        print(f'{state}: {prob:.4f}')\n",
    "    print()"
   ]
  },
  {
   "cell_type": "code",
   "execution_count": 408,
   "id": "10a841ad",
   "metadata": {},
   "outputs": [
    {
     "name": "stdout",
     "output_type": "stream",
     "text": [
      "Initial state: Midtown\n",
      "                State  Probability\n",
      "16            Midtown     0.167754\n",
      "19    Upper East Side     0.121839\n",
      "2   Outside Manhattan     0.102944\n",
      "22            Chelsea     0.086154\n",
      "9     Upper West Side     0.078542\n",
      "15     Hell's Kitchen     0.053319\n",
      "20       East Village     0.038700\n",
      "32   Theater District     0.038065\n",
      "4        West Village     0.036554\n",
      "11        Murray Hill     0.028499\n"
     ]
    }
   ],
   "source": [
    "initial_state = np.random.choice(states) # Choose an initial state at random\n",
    "state_index = states.index(initial_state) # Get the index of the initial state\n",
    "print(f'Initial state: {initial_state}') \n",
    "\n",
    "density = np.zeros(len(states))\n",
    "density[state_index] = 1\n",
    "\n",
    "# n_sim = 1000\n",
    "\n",
    "forecast = density.copy()\n",
    "\n",
    "for k in range(50):\n",
    "    forecast = forecast @ tr_pr\n",
    "\n",
    "df = pd.DataFrame({'State': states, 'Probability': forecast})\n",
    "df = df.sort_values('Probability', ascending=False)\n",
    "\n",
    "print(df.head(10))\n"
   ]
  }
 ],
 "metadata": {
  "kernelspec": {
   "display_name": "ds6001",
   "language": "python",
   "name": "python3"
  },
  "language_info": {
   "codemirror_mode": {
    "name": "ipython",
    "version": 3
   },
   "file_extension": ".py",
   "mimetype": "text/x-python",
   "name": "python",
   "nbconvert_exporter": "python",
   "pygments_lexer": "ipython3",
   "version": "3.13.5"
  }
 },
 "nbformat": 4,
 "nbformat_minor": 5
}
